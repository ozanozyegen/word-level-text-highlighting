{
 "cells": [
  {
   "cell_type": "code",
   "execution_count": 1,
   "metadata": {},
   "outputs": [],
   "source": [
    "import numpy as np\n",
    "import pandas as pd\n",
    "import seaborn as sns\n",
    "import matplotlib.pyplot as plt\n",
    "import os"
   ]
  },
  {
   "cell_type": "code",
   "execution_count": 2,
   "metadata": {},
   "outputs": [],
   "source": [
    "dir = 'data/external/human_study_v2'\n",
    "dfs = {}\n",
    "for file_name in os.listdir(dir):\n",
    "    user = file_name.split('.')[0]\n",
    "    dfs[user] = pd.read_csv(os.path.join(dir, file_name))"
   ]
  },
  {
   "cell_type": "code",
   "execution_count": 3,
   "metadata": {},
   "outputs": [],
   "source": [
    "dfs['user1'] = dfs['user1'].dropna()"
   ]
  },
  {
   "cell_type": "code",
   "execution_count": 4,
   "metadata": {},
   "outputs": [],
   "source": [
    "docs = dfs['user1']['file_name_unhighlighted'].tolist()"
   ]
  },
  {
   "cell_type": "code",
   "execution_count": 5,
   "metadata": {},
   "outputs": [],
   "source": [
    "run_times = []\n",
    "for row_id, doc in enumerate(docs):\n",
    "    for user, df in dfs.items():\n",
    "        row = dict(user = user,\n",
    "                   status = 'Non-highlighted',\n",
    "                   doc_id = df.iloc[row_id, 0],\n",
    "                   time = df.iloc[row_id, 1])\n",
    "        run_times.append(row)\n",
    "        row = dict(user = user,\n",
    "                   status = 'Highlighted',\n",
    "                   doc_id = df.iloc[row_id, 2],\n",
    "                   time = df.iloc[row_id, 3])\n",
    "        run_times.append(row)"
   ]
  },
  {
   "cell_type": "code",
   "execution_count": 6,
   "metadata": {},
   "outputs": [],
   "source": [
    "df = pd.DataFrame(run_times)"
   ]
  },
  {
   "cell_type": "code",
   "execution_count": null,
   "metadata": {},
   "outputs": [],
   "source": [
    "df.dropna(inplace=True)"
   ]
  },
  {
   "cell_type": "code",
   "execution_count": 8,
   "metadata": {},
   "outputs": [
    {
     "name": "stdout",
     "output_type": "stream",
     "text": [
      "88 101\n",
      "Reduction time spent:  12.871287128712872 %\n"
     ]
    }
   ],
   "source": [
    "highlighted, unhighlighted = int(df[df.status=='Highlighted'].mean()), int(df[df.status=='Non-highlighted'].mean())\n",
    "print(highlighted, unhighlighted)\n",
    "print('Reduction time spent: ', abs((highlighted-unhighlighted)*100)/unhighlighted, '%')"
   ]
  },
  {
   "cell_type": "code",
   "execution_count": 10,
   "metadata": {},
   "outputs": [
    {
     "data": {
      "image/png": "[encoded data removed]",
      "text/plain": [
       "<Figure size 432x288 with 1 Axes>"
      ]
     },
     "metadata": {
      "needs_background": "light"
     },
     "output_type": "display_data"
    }
   ],
   "source": [
    "per_user_plot = sns.boxplot(x='user', y='time', hue='status', data=df, \n",
    "            width=0.5)\n",
    "plt.legend(loc='upper right')\n",
    "per_user_plot.set(xlabel='Annotator', ylabel='Time (seconds)')\n",
    "per_user_plot.set(xticklabels=['User 1', 'User 2', 'User 3', 'User 4'])\n",
    "per_user_plot.figure.savefig('reports/human_study/per_user_plot.pdf', format='pdf')"
   ]
  },
  {
   "cell_type": "code",
   "execution_count": 30,
   "metadata": {},
   "outputs": [
    {
     "data": {
      "image/png": "[encoded data removed]",
      "text/plain": [
       "<Figure size 432x288 with 1 Axes>"
      ]
     },
     "metadata": {
      "needs_background": "light"
     },
     "output_type": "display_data"
    }
   ],
   "source": [
    "df['user'] = ''\n",
    "sum_plot = sns.boxplot(data=df, x='user', y='time', hue='status')\n",
    "plt.legend(loc='upper right')\n",
    "sum_plot.set(xlabel='', ylabel='Time (seconds)')\n",
    "sum_plot.set(xticklabels=['Annotator'])\n",
    "sum_plot.figure.savefig('reports/human_study/sum_user_plot.pdf', format='pdf')"
   ]
  },
  {
   "cell_type": "code",
   "execution_count": null,
   "metadata": {},
   "outputs": [],
   "source": []
  }
 ],
 "metadata": {
  "interpreter": {
   "hash": "7e3fb9bf7f757f811fbd79d94cb367f8fa73da1cc0b0d7e9615fbcd31dbb9a1d"
  },
  "kernelspec": {
   "display_name": "Python 3.7.9 64-bit ('ydo_tf2': conda)",
   "language": "python",
   "name": "python3"
  },
  "language_info": {
   "codemirror_mode": {
    "name": "ipython",
    "version": 3
   },
   "file_extension": ".py",
   "mimetype": "text/x-python",
   "name": "python",
   "nbconvert_exporter": "python",
   "pygments_lexer": "ipython3",
   "version": "3.7.9"
  },
  "orig_nbformat": 4
 },
 "nbformat": 4,
 "nbformat_minor": 2
}
